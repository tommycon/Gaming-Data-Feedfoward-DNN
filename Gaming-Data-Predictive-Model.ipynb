{
 "cells": [
  {
   "cell_type": "markdown",
   "metadata": {},
   "source": [
    "\n",
    "Question 1.\n",
    "I have added some dummy data to validate the queries.\n",
    "\n",
    "This <span style=\"color:red\">word</span> is not black.\n",
    "Text <span style=\"font-family: Arial; font-size:1.4em;color:gold;\"> Golden </p> Text"
   ]
  },
  {
   "cell_type": "code",
   "execution_count": 458,
   "metadata": {},
   "outputs": [],
   "source": [
    "#!pip install pandasql\n",
    "import pandas as pd\n",
    "import numpy as np\n",
    "import pandasql as ps\n",
    "question1_df = pd.read_csv(\"C:/Users/tc302599/Documents/Faceit/Q1.csv\")"
   ]
  },
  {
   "cell_type": "code",
   "execution_count": 459,
   "metadata": {},
   "outputs": [
    {
     "data": {
      "text/html": [
       "<div>\n",
       "<style scoped>\n",
       "    .dataframe tbody tr th:only-of-type {\n",
       "        vertical-align: middle;\n",
       "    }\n",
       "\n",
       "    .dataframe tbody tr th {\n",
       "        vertical-align: top;\n",
       "    }\n",
       "\n",
       "    .dataframe thead th {\n",
       "        text-align: right;\n",
       "    }\n",
       "</style>\n",
       "<table border=\"1\" class=\"dataframe\">\n",
       "  <thead>\n",
       "    <tr style=\"text-align: right;\">\n",
       "      <th></th>\n",
       "      <th>user_id</th>\n",
       "      <th>match_id</th>\n",
       "      <th>game</th>\n",
       "      <th>created_at</th>\n",
       "      <th>membership</th>\n",
       "      <th>faction</th>\n",
       "      <th>winner</th>\n",
       "    </tr>\n",
       "  </thead>\n",
       "  <tbody>\n",
       "    <tr>\n",
       "      <th>0</th>\n",
       "      <td>ab542a</td>\n",
       "      <td>e21887</td>\n",
       "      <td>csgo</td>\n",
       "      <td>02/01/2018 18:45</td>\n",
       "      <td>free</td>\n",
       "      <td>faction1</td>\n",
       "      <td>faction1</td>\n",
       "    </tr>\n",
       "    <tr>\n",
       "      <th>1</th>\n",
       "      <td>ef72da</td>\n",
       "      <td>df891f</td>\n",
       "      <td>dota2</td>\n",
       "      <td>02/01/2018 08:20</td>\n",
       "      <td>free</td>\n",
       "      <td>faction2</td>\n",
       "      <td>faction1</td>\n",
       "    </tr>\n",
       "    <tr>\n",
       "      <th>2</th>\n",
       "      <td>f5c776</td>\n",
       "      <td>1p5c47</td>\n",
       "      <td>wot_RU</td>\n",
       "      <td>30/12/2017 15:25</td>\n",
       "      <td>free</td>\n",
       "      <td>faction1</td>\n",
       "      <td>faction2</td>\n",
       "    </tr>\n",
       "    <tr>\n",
       "      <th>3</th>\n",
       "      <td>5a278a</td>\n",
       "      <td>af14e8</td>\n",
       "      <td>csgo</td>\n",
       "      <td>01/01/2018 14:27</td>\n",
       "      <td>premium</td>\n",
       "      <td>faction2</td>\n",
       "      <td>faction2</td>\n",
       "    </tr>\n",
       "    <tr>\n",
       "      <th>4</th>\n",
       "      <td>ae346d</td>\n",
       "      <td>af14e8</td>\n",
       "      <td>csgo</td>\n",
       "      <td>01/01/2018 14:27</td>\n",
       "      <td>free</td>\n",
       "      <td>faction2</td>\n",
       "      <td>faction2</td>\n",
       "    </tr>\n",
       "  </tbody>\n",
       "</table>\n",
       "</div>"
      ],
      "text/plain": [
       "  user_id match_id    game        created_at membership   faction    winner\n",
       "0  ab542a   e21887    csgo  02/01/2018 18:45       free  faction1  faction1\n",
       "1  ef72da   df891f   dota2  02/01/2018 08:20       free  faction2  faction1\n",
       "2  f5c776   1p5c47  wot_RU  30/12/2017 15:25       free  faction1  faction2\n",
       "3  5a278a   af14e8    csgo  01/01/2018 14:27    premium  faction2  faction2\n",
       "4  ae346d   af14e8    csgo  01/01/2018 14:27       free  faction2  faction2"
      ]
     },
     "execution_count": 459,
     "metadata": {},
     "output_type": "execute_result"
    }
   ],
   "source": [
    "question1_df.head()"
   ]
  },
  {
   "cell_type": "code",
   "execution_count": 460,
   "metadata": {},
   "outputs": [
    {
     "data": {
      "text/plain": [
       "['user_id',\n",
       " 'match_id',\n",
       " 'game',\n",
       " 'created_at',\n",
       " 'membership',\n",
       " 'faction',\n",
       " 'winner']"
      ]
     },
     "execution_count": 460,
     "metadata": {},
     "output_type": "execute_result"
    }
   ],
   "source": [
    "list(question1_df.columns.values)"
   ]
  },
  {
   "cell_type": "code",
   "execution_count": 461,
   "metadata": {},
   "outputs": [
    {
     "data": {
      "text/html": [
       "<div>\n",
       "<style scoped>\n",
       "    .dataframe tbody tr th:only-of-type {\n",
       "        vertical-align: middle;\n",
       "    }\n",
       "\n",
       "    .dataframe tbody tr th {\n",
       "        vertical-align: top;\n",
       "    }\n",
       "\n",
       "    .dataframe thead th {\n",
       "        text-align: right;\n",
       "    }\n",
       "</style>\n",
       "<table border=\"1\" class=\"dataframe\">\n",
       "  <thead>\n",
       "    <tr style=\"text-align: right;\">\n",
       "      <th></th>\n",
       "      <th>user_id</th>\n",
       "      <th>match_id</th>\n",
       "      <th>game</th>\n",
       "      <th>created_at</th>\n",
       "      <th>membership</th>\n",
       "      <th>faction</th>\n",
       "    </tr>\n",
       "    <tr>\n",
       "      <th>winner</th>\n",
       "      <th></th>\n",
       "      <th></th>\n",
       "      <th></th>\n",
       "      <th></th>\n",
       "      <th></th>\n",
       "      <th></th>\n",
       "    </tr>\n",
       "  </thead>\n",
       "  <tbody>\n",
       "    <tr>\n",
       "      <th>faction1</th>\n",
       "      <td>53</td>\n",
       "      <td>53</td>\n",
       "      <td>53</td>\n",
       "      <td>53</td>\n",
       "      <td>53</td>\n",
       "      <td>53</td>\n",
       "    </tr>\n",
       "    <tr>\n",
       "      <th>faction2</th>\n",
       "      <td>13</td>\n",
       "      <td>13</td>\n",
       "      <td>13</td>\n",
       "      <td>13</td>\n",
       "      <td>13</td>\n",
       "      <td>13</td>\n",
       "    </tr>\n",
       "  </tbody>\n",
       "</table>\n",
       "</div>"
      ],
      "text/plain": [
       "          user_id  match_id  game  created_at  membership  faction\n",
       "winner                                                            \n",
       "faction1       53        53    53          53          53       53\n",
       "faction2       13        13    13          13          13       13"
      ]
     },
     "execution_count": 461,
     "metadata": {},
     "output_type": "execute_result"
    }
   ],
   "source": [
    "question1_df.groupby(['winner']).count()"
   ]
  },
  {
   "cell_type": "code",
   "execution_count": 462,
   "metadata": {},
   "outputs": [
    {
     "name": "stdout",
     "output_type": "stream",
     "text": [
      "   year  Number_Of_Matches\n",
      "0  2018                  3\n"
     ]
    }
   ],
   "source": [
    "#Validate we are getting unique counts for each match, and only pulling matches with premium users \n",
    "#and are correctly extracting the year from created_at \n",
    "#q1 = \"\"\"SELECT match_id,\n",
    "#              substr(created_at,7,4) as year,\n",
    "#              membership,\n",
    "#              count(distinct match_id) as Number_Of_Matches\n",
    "#       FROM question1_df\n",
    "#       where membership='premium' and substr(created_at,7,4)='2018'\n",
    "#       group by match_id, membership\n",
    "#       \"\"\"\n",
    "\n",
    "#Finalise Query\n",
    "q1 = \"\"\"SELECT substr(created_at,7,4) as year,\n",
    "               count(distinct match_id) as Number_Of_Matches\n",
    "        FROM question1_df\n",
    "        where membership='premium' and substr(created_at,7,4)='2018'\n",
    "        \"\"\"\n",
    "\n",
    "print(ps.sqldf(q1, locals()))"
   ]
  },
  {
   "cell_type": "code",
   "execution_count": 463,
   "metadata": {},
   "outputs": [
    {
     "name": "stdout",
     "output_type": "stream",
     "text": [
      "    user_id    game  longest_sequence\n",
      "0    ace797   csgo2                 9\n",
      "1   aaaaaaa    test                 7\n",
      "2   aaaaaaa  csgo20                 6\n",
      "3    ab542a    csgo                 6\n",
      "4    5a278a    csgo                 3\n",
      "5    ae346d    csgo                 3\n",
      "6    ace797  csgo10                 1\n",
      "7    ace797  csgo11                 1\n",
      "8    ace797  csgo12                 1\n",
      "9    ace797  csgo13                 1\n",
      "10   ace797  csgo14                 1\n",
      "11   ace797  csgo15                 1\n",
      "12   ace797  csgo16                 1\n",
      "13   ace797  csgo17                 1\n",
      "14   ace797  csgo18                 1\n",
      "15   ace797  csgo19                 1\n",
      "16   ace797  csgo20                 1\n",
      "17   ace797   csgo3                 1\n",
      "18   ace797   csgo4                 1\n",
      "19   ace797   csgo5                 1\n",
      "20   ace797   csgo6                 1\n",
      "21   ace797   csgo7                 1\n",
      "22   ace797   csgo8                 1\n",
      "23   ace797   csgo9                 1\n"
     ]
    }
   ],
   "source": [
    "q3 = \"\"\"\n",
    "    SELECT   user_id, game, MAX(seq_length) AS longest_sequence\n",
    "    FROM (\n",
    "          SELECT   \n",
    "            user_id, \n",
    "            game,\n",
    "            COUNT(*) AS seq_length\n",
    "          FROM ( SELECT *, \n",
    "                   SUM(new_group) OVER(ORDER BY user_id, game) AS group_no\n",
    "                 FROM ( SELECT   *,\n",
    "                                 LAG(win_flag) OVER(ORDER BY user_id, created_at) AS new_group\n",
    "                                 FROM (select *, \n",
    "                                 case when faction=winner then 1 else 0 end as win_flag \n",
    "                        FROM question1_df\n",
    "                        )))\n",
    "          WHERE win_flag = 1\n",
    "          GROUP BY user_id, group_no)\n",
    "   GROUP BY user_id, game\n",
    "   ORDER BY 3 DESC, 3, 1\n",
    "              \n",
    "        \"\"\"\n",
    "\n",
    "print(ps.sqldf(q3, locals()))"
   ]
  },
  {
   "cell_type": "code",
   "execution_count": 464,
   "metadata": {},
   "outputs": [
    {
     "name": "stdout",
     "output_type": "stream",
     "text": [
      "    user_id    game  longest_sequence\n",
      "0    ace797   csgo2                 9\n",
      "1   aaaaaaa    test                 7\n",
      "2   aaaaaaa  csgo20                 6\n",
      "3    ab542a    csgo                 6\n",
      "4    5a278a    csgo                 3\n",
      "5    ae346d    csgo                 3\n",
      "6    ace797  csgo10                 1\n",
      "7    ace797  csgo11                 1\n",
      "8    ace797  csgo12                 1\n",
      "9    ace797  csgo13                 1\n",
      "10   ace797  csgo14                 1\n",
      "11   ace797  csgo15                 1\n",
      "12   ace797  csgo16                 1\n",
      "13   ace797  csgo17                 1\n",
      "14   ace797  csgo18                 1\n",
      "15   ace797  csgo19                 1\n",
      "16   ace797  csgo20                 1\n",
      "17   ace797   csgo3                 1\n",
      "18   ace797   csgo4                 1\n",
      "19   ace797   csgo5                 1\n",
      "20   ace797   csgo6                 1\n",
      "21   ace797   csgo7                 1\n",
      "22   ace797   csgo8                 1\n",
      "23   ace797   csgo9                 1\n"
     ]
    }
   ],
   "source": [
    "q2 = \"\"\"\n",
    "    SELECT   user_id, game, MAX(seq_length) AS longest_sequence\n",
    "    FROM (\n",
    "          SELECT   \n",
    "            user_id, \n",
    "            game,\n",
    "            COUNT(*) AS seq_length\n",
    "          FROM ( SELECT *, \n",
    "                   SUM(new_group) OVER(ORDER BY user_id, game) AS group_no\n",
    "                 FROM ( SELECT   *,\n",
    "                                 LAG(win_flag) OVER(ORDER BY user_id, created_datetime) AS new_group\n",
    "                                 FROM (select *, \n",
    "                                 case when faction=winner then 1 else 0 end as win_flag,\n",
    "                                 DATETIME(substr(created_at,7,4)||'-'||substr(created_at,4,2)||'-'||substr(created_at,1,2)\n",
    "                                          ||substr(created_at,11,6) ) as created_datetime     \n",
    "                        FROM question1_df\n",
    "                        )))\n",
    "          WHERE win_flag = 1\n",
    "          GROUP BY user_id, group_no)\n",
    "   GROUP BY user_id, game\n",
    "   ORDER BY 3 DESC, 3, 1\n",
    "              \n",
    "        \"\"\"\n",
    "\n",
    "print(ps.sqldf(q2, locals()))"
   ]
  },
  {
   "cell_type": "code",
   "execution_count": 465,
   "metadata": {},
   "outputs": [
    {
     "name": "stdout",
     "output_type": "stream",
     "text": [
      "   user_id    game  longest_sequence\n",
      "0   ace797   csgo2                11\n",
      "1   ace797  csgo10                10\n",
      "2  aaaaaaa  csgo20                 7\n",
      "3  aaaaaaa    test                 6\n",
      "4   ab542a    csgo                 6\n",
      "5   5a278a    csgo                 3\n",
      "6   ae346d    csgo                 3\n"
     ]
    }
   ],
   "source": [
    "q2 = \"\"\"\n",
    "    SELECT   user_id, game, MAX(seq_length) AS longest_sequence\n",
    "    FROM (\n",
    "          SELECT   \n",
    "            user_id, \n",
    "            game,\n",
    "            COUNT(*) AS seq_length\n",
    "          FROM ( SELECT *, \n",
    "                   SUM(new_group) OVER(ORDER BY user_id, game, created_datetime) AS group_no\n",
    "                 FROM ( SELECT   *,\n",
    "                                 case when LAG(win_flag) OVER(ORDER BY user_id, created_datetime)=win_flag then 0 else 1 end AS new_group\n",
    "                                 FROM (select *, \n",
    "                                 case when faction=winner then 1 else 0 end as win_flag,\n",
    "                                 DATETIME(substr(created_at,7,4)||'-'||substr(created_at,4,2)||'-'||substr(created_at,1,2)\n",
    "                                          ||substr(created_at,11,6) ) as created_datetime     \n",
    "                        FROM question1_df\n",
    "                        )))\n",
    "          WHERE win_flag = 1\n",
    "          GROUP BY user_id, group_no)\n",
    "   GROUP BY user_id, game\n",
    "   ORDER BY 3 DESC, 3, 1\n",
    "              \n",
    "        \"\"\"\n",
    "\n",
    "print(ps.sqldf(q2, locals()))\n"
   ]
  },
  {
   "cell_type": "code",
   "execution_count": 466,
   "metadata": {},
   "outputs": [],
   "source": [
    "from scipy import stats\n",
    "def two_proprotions_confint(success_a, size_a, success_b, size_b, significance = 0.05):\n",
    "    \"\"\"\n",
    "    A/B test for two proportions;\n",
    "    given a success a trial size of group A and B compute\n",
    "    its confidence interval;\n",
    "    resulting confidence interval matches R's prop.test function\n",
    "\n",
    "    Parameters\n",
    "    ----------\n",
    "    success_a, success_b : int\n",
    "        Number of successes in each group\n",
    "\n",
    "    size_a, size_b : int\n",
    "        Size, or number of observations in each group\n",
    "\n",
    "    significance : float, default 0.05\n",
    "        Often denoted as alpha. Governs the chance of a false positive.\n",
    "        A significance level of 0.05 means that there is a 5% chance of\n",
    "        a false positive. In other words, our confidence level is\n",
    "        1 - 0.05 = 0.95\n",
    "\n",
    "    Returns\n",
    "    -------\n",
    "    prop_diff : float\n",
    "        Difference between the two proportion\n",
    "\n",
    "    confint : 1d ndarray\n",
    "        Confidence interval of the two proportion test\n",
    "    \"\"\"\n",
    "    prop_a = success_a / size_a\n",
    "    prop_b = success_b / size_b\n",
    "    var = prop_a * (1 - prop_a) / size_a + prop_b * (1 - prop_b) / size_b\n",
    "    se = np.sqrt(var)\n",
    "\n",
    "    # z critical value\n",
    "    confidence = 1 - significance\n",
    "    z = stats.norm(loc = 0, scale = 1).ppf(confidence + significance / 2)\n",
    "\n",
    "    # standard formula for the confidence interval\n",
    "    # point-estimtate +- z * standard-error\n",
    "    prop_diff = prop_b - prop_a\n",
    "    confint = prop_diff + np.array([-1, 1]) * z * se\n",
    "    return prop_diff, confint"
   ]
  },
  {
   "cell_type": "code",
   "execution_count": 467,
   "metadata": {},
   "outputs": [],
   "source": [
    "question2_df = pd.read_csv(\"C:/Users/tc302599/Documents/Faceit/client__1_.csv\")"
   ]
  },
  {
   "cell_type": "code",
   "execution_count": 468,
   "metadata": {},
   "outputs": [
    {
     "data": {
      "text/html": [
       "<div>\n",
       "<style scoped>\n",
       "    .dataframe tbody tr th:only-of-type {\n",
       "        vertical-align: middle;\n",
       "    }\n",
       "\n",
       "    .dataframe tbody tr th {\n",
       "        vertical-align: top;\n",
       "    }\n",
       "\n",
       "    .dataframe thead th {\n",
       "        text-align: right;\n",
       "    }\n",
       "</style>\n",
       "<table border=\"1\" class=\"dataframe\">\n",
       "  <thead>\n",
       "    <tr style=\"text-align: right;\">\n",
       "      <th></th>\n",
       "      <th>user_id</th>\n",
       "      <th>first_day</th>\n",
       "      <th>latest_day</th>\n",
       "      <th>lifespan</th>\n",
       "      <th>client</th>\n",
       "      <th>membership_type</th>\n",
       "      <th>joined_at_least_1_hub</th>\n",
       "    </tr>\n",
       "  </thead>\n",
       "  <tbody>\n",
       "    <tr>\n",
       "      <th>0</th>\n",
       "      <td>594132bd-7b3e-4ec4-b752-06ee1711d297</td>\n",
       "      <td>11/10/2017</td>\n",
       "      <td>11/10/2017</td>\n",
       "      <td>0</td>\n",
       "      <td>new_client</td>\n",
       "      <td>free</td>\n",
       "      <td>NaN</td>\n",
       "    </tr>\n",
       "    <tr>\n",
       "      <th>1</th>\n",
       "      <td>533f08c8-e1ee-4925-96d9-9aeeba55b5ba</td>\n",
       "      <td>11/10/2017</td>\n",
       "      <td>11/10/2017</td>\n",
       "      <td>0</td>\n",
       "      <td>new_client</td>\n",
       "      <td>free</td>\n",
       "      <td>NaN</td>\n",
       "    </tr>\n",
       "    <tr>\n",
       "      <th>2</th>\n",
       "      <td>0840ad75-5337-4193-8cf8-0348b126e697</td>\n",
       "      <td>11/10/2017</td>\n",
       "      <td>11/10/2017</td>\n",
       "      <td>0</td>\n",
       "      <td>web_client</td>\n",
       "      <td>free</td>\n",
       "      <td>NaN</td>\n",
       "    </tr>\n",
       "    <tr>\n",
       "      <th>3</th>\n",
       "      <td>6e51c17f-4a81-4bb9-9f35-f0e2839da86e</td>\n",
       "      <td>11/10/2017</td>\n",
       "      <td>11/10/2017</td>\n",
       "      <td>0</td>\n",
       "      <td>new_client</td>\n",
       "      <td>free</td>\n",
       "      <td>1.0</td>\n",
       "    </tr>\n",
       "    <tr>\n",
       "      <th>4</th>\n",
       "      <td>f0dde747-b394-4a75-a74f-5e4adec18a28</td>\n",
       "      <td>11/10/2017</td>\n",
       "      <td>11/10/2017</td>\n",
       "      <td>0</td>\n",
       "      <td>new_client</td>\n",
       "      <td>free</td>\n",
       "      <td>NaN</td>\n",
       "    </tr>\n",
       "  </tbody>\n",
       "</table>\n",
       "</div>"
      ],
      "text/plain": [
       "                                user_id   first_day  latest_day  lifespan  \\\n",
       "0  594132bd-7b3e-4ec4-b752-06ee1711d297  11/10/2017  11/10/2017         0   \n",
       "1  533f08c8-e1ee-4925-96d9-9aeeba55b5ba  11/10/2017  11/10/2017         0   \n",
       "2  0840ad75-5337-4193-8cf8-0348b126e697  11/10/2017  11/10/2017         0   \n",
       "3  6e51c17f-4a81-4bb9-9f35-f0e2839da86e  11/10/2017  11/10/2017         0   \n",
       "4  f0dde747-b394-4a75-a74f-5e4adec18a28  11/10/2017  11/10/2017         0   \n",
       "\n",
       "       client membership_type  joined_at_least_1_hub  \n",
       "0  new_client            free                    NaN  \n",
       "1  new_client            free                    NaN  \n",
       "2  web_client            free                    NaN  \n",
       "3  new_client            free                    1.0  \n",
       "4  new_client            free                    NaN  "
      ]
     },
     "execution_count": 468,
     "metadata": {},
     "output_type": "execute_result"
    }
   ],
   "source": [
    "question2_df.head()"
   ]
  },
  {
   "cell_type": "code",
   "execution_count": 469,
   "metadata": {},
   "outputs": [
    {
     "data": {
      "text/html": [
       "<div>\n",
       "<style scoped>\n",
       "    .dataframe tbody tr th:only-of-type {\n",
       "        vertical-align: middle;\n",
       "    }\n",
       "\n",
       "    .dataframe tbody tr th {\n",
       "        vertical-align: top;\n",
       "    }\n",
       "\n",
       "    .dataframe thead tr th {\n",
       "        text-align: left;\n",
       "    }\n",
       "\n",
       "    .dataframe thead tr:last-of-type th {\n",
       "        text-align: right;\n",
       "    }\n",
       "</style>\n",
       "<table border=\"1\" class=\"dataframe\">\n",
       "  <thead>\n",
       "    <tr>\n",
       "      <th></th>\n",
       "      <th>user_id</th>\n",
       "      <th>first_day</th>\n",
       "      <th>latest_day</th>\n",
       "      <th>lifespan</th>\n",
       "      <th>membership_type</th>\n",
       "      <th>joined_at_least_1_hub</th>\n",
       "    </tr>\n",
       "    <tr>\n",
       "      <th></th>\n",
       "      <th>count</th>\n",
       "      <th>count</th>\n",
       "      <th>count</th>\n",
       "      <th>count</th>\n",
       "      <th>count</th>\n",
       "      <th>count</th>\n",
       "    </tr>\n",
       "    <tr>\n",
       "      <th>client</th>\n",
       "      <th></th>\n",
       "      <th></th>\n",
       "      <th></th>\n",
       "      <th></th>\n",
       "      <th></th>\n",
       "      <th></th>\n",
       "    </tr>\n",
       "  </thead>\n",
       "  <tbody>\n",
       "    <tr>\n",
       "      <th>new_client</th>\n",
       "      <td>1809</td>\n",
       "      <td>1809</td>\n",
       "      <td>1809</td>\n",
       "      <td>1809</td>\n",
       "      <td>1809</td>\n",
       "      <td>1557</td>\n",
       "    </tr>\n",
       "    <tr>\n",
       "      <th>web_client</th>\n",
       "      <td>1496</td>\n",
       "      <td>1496</td>\n",
       "      <td>1496</td>\n",
       "      <td>1496</td>\n",
       "      <td>1496</td>\n",
       "      <td>1253</td>\n",
       "    </tr>\n",
       "  </tbody>\n",
       "</table>\n",
       "</div>"
      ],
      "text/plain": [
       "           user_id first_day latest_day lifespan membership_type  \\\n",
       "             count     count      count    count           count   \n",
       "client                                                             \n",
       "new_client    1809      1809       1809     1809            1809   \n",
       "web_client    1496      1496       1496     1496            1496   \n",
       "\n",
       "           joined_at_least_1_hub  \n",
       "                           count  \n",
       "client                            \n",
       "new_client                  1557  \n",
       "web_client                  1253  "
      ]
     },
     "execution_count": 469,
     "metadata": {},
     "output_type": "execute_result"
    }
   ],
   "source": [
    "question2_df.groupby(['client']).agg(['count'])"
   ]
  },
  {
   "cell_type": "code",
   "execution_count": 470,
   "metadata": {},
   "outputs": [
    {
     "name": "stdout",
     "output_type": "stream",
     "text": [
      "1496\n",
      "1809\n",
      "1253.0\n",
      "1557.0\n"
     ]
    }
   ],
   "source": [
    "#web_client is a - new_client is b \n",
    "\n",
    "\n",
    "size_a=question2_df.query(\"client == 'web_client'\")['user_id'].count()\n",
    "print(size_a)\n",
    "size_b=question2_df.query(\"client == 'new_client'\")['user_id'].count()\n",
    "print(size_b)\n",
    "\n",
    "\n",
    "success_a=question2_df.query(\"client == 'web_client'\")['joined_at_least_1_hub'].sum()\n",
    "print(success_a)\n",
    "success_b=question2_df.query(\"client == 'new_client'\")['joined_at_least_1_hub'].sum()\n",
    "print(success_b)"
   ]
  },
  {
   "cell_type": "code",
   "execution_count": 471,
   "metadata": {},
   "outputs": [
    {
     "name": "stdout",
     "output_type": "stream",
     "text": [
      "0.8606965174129353\n",
      "0.8375668449197861\n",
      "0.023129672493149234\n"
     ]
    }
   ],
   "source": [
    "prop_b=question2_df.query(\"client == 'new_client'\")['joined_at_least_1_hub'].sum()/size_b\n",
    "print(prop_b)\n",
    "prop_a=question2_df.query(\"client == 'web_client'\")['joined_at_least_1_hub'].sum()/size_a\n",
    "print(prop_a)\n",
    "print(prop_b-prop_a)"
   ]
  },
  {
   "cell_type": "code",
   "execution_count": 472,
   "metadata": {},
   "outputs": [
    {
     "data": {
      "text/plain": [
       "(0.023129672493149234, array([0.00250527, 0.04375408]))"
      ]
     },
     "execution_count": 472,
     "metadata": {},
     "output_type": "execute_result"
    }
   ],
   "source": [
    "two_proprotions_confint(success_a, size_a, success_b, size_b, significance = 0.1)"
   ]
  },
  {
   "cell_type": "code",
   "execution_count": 473,
   "metadata": {},
   "outputs": [
    {
     "data": {
      "text/plain": [
       "(0.023129672493149234, array([-0.00144582,  0.04770517]))"
      ]
     },
     "execution_count": 473,
     "metadata": {},
     "output_type": "execute_result"
    }
   ],
   "source": [
    "two_proprotions_confint(success_a, size_a, success_b, size_b, significance = 0.05)"
   ]
  },
  {
   "cell_type": "code",
   "execution_count": 474,
   "metadata": {},
   "outputs": [],
   "source": [
    "question3_df = pd.read_csv(\"C:/Users/tc302599/Documents/Faceit/toxicity_xls.csv\")"
   ]
  },
  {
   "cell_type": "code",
   "execution_count": 475,
   "metadata": {},
   "outputs": [
    {
     "data": {
      "text/html": [
       "<div>\n",
       "<style scoped>\n",
       "    .dataframe tbody tr th:only-of-type {\n",
       "        vertical-align: middle;\n",
       "    }\n",
       "\n",
       "    .dataframe tbody tr th {\n",
       "        vertical-align: top;\n",
       "    }\n",
       "\n",
       "    .dataframe thead th {\n",
       "        text-align: right;\n",
       "    }\n",
       "</style>\n",
       "<table border=\"1\" class=\"dataframe\">\n",
       "  <thead>\n",
       "    <tr style=\"text-align: right;\">\n",
       "      <th></th>\n",
       "      <th>flirtation</th>\n",
       "      <th>identity_attack</th>\n",
       "      <th>insult</th>\n",
       "      <th>severe_toxicity</th>\n",
       "      <th>sexually_explicit</th>\n",
       "      <th>threat</th>\n",
       "      <th>label</th>\n",
       "    </tr>\n",
       "  </thead>\n",
       "  <tbody>\n",
       "    <tr>\n",
       "      <th>0</th>\n",
       "      <td>0.593828</td>\n",
       "      <td>0.563516</td>\n",
       "      <td>0.849090</td>\n",
       "      <td>0.864632</td>\n",
       "      <td>0.777347</td>\n",
       "      <td>0.602494</td>\n",
       "      <td>Offensive</td>\n",
       "    </tr>\n",
       "    <tr>\n",
       "      <th>1</th>\n",
       "      <td>0.213193</td>\n",
       "      <td>0.407253</td>\n",
       "      <td>0.925010</td>\n",
       "      <td>0.856451</td>\n",
       "      <td>0.456983</td>\n",
       "      <td>0.592931</td>\n",
       "      <td>Offensive</td>\n",
       "    </tr>\n",
       "    <tr>\n",
       "      <th>2</th>\n",
       "      <td>0.474532</td>\n",
       "      <td>0.323574</td>\n",
       "      <td>0.710831</td>\n",
       "      <td>0.747318</td>\n",
       "      <td>0.933715</td>\n",
       "      <td>0.208848</td>\n",
       "      <td>Very offensive</td>\n",
       "    </tr>\n",
       "    <tr>\n",
       "      <th>3</th>\n",
       "      <td>0.503426</td>\n",
       "      <td>0.407557</td>\n",
       "      <td>0.796685</td>\n",
       "      <td>0.854638</td>\n",
       "      <td>0.955973</td>\n",
       "      <td>0.343336</td>\n",
       "      <td>Neutral</td>\n",
       "    </tr>\n",
       "    <tr>\n",
       "      <th>4</th>\n",
       "      <td>0.394807</td>\n",
       "      <td>0.170078</td>\n",
       "      <td>0.561849</td>\n",
       "      <td>0.766563</td>\n",
       "      <td>0.459300</td>\n",
       "      <td>0.223698</td>\n",
       "      <td>Profanity</td>\n",
       "    </tr>\n",
       "  </tbody>\n",
       "</table>\n",
       "</div>"
      ],
      "text/plain": [
       "   flirtation  identity_attack    insult  severe_toxicity  sexually_explicit  \\\n",
       "0    0.593828         0.563516  0.849090         0.864632           0.777347   \n",
       "1    0.213193         0.407253  0.925010         0.856451           0.456983   \n",
       "2    0.474532         0.323574  0.710831         0.747318           0.933715   \n",
       "3    0.503426         0.407557  0.796685         0.854638           0.955973   \n",
       "4    0.394807         0.170078  0.561849         0.766563           0.459300   \n",
       "\n",
       "     threat           label  \n",
       "0  0.602494       Offensive  \n",
       "1  0.592931       Offensive  \n",
       "2  0.208848  Very offensive  \n",
       "3  0.343336         Neutral  \n",
       "4  0.223698       Profanity  "
      ]
     },
     "execution_count": 475,
     "metadata": {},
     "output_type": "execute_result"
    }
   ],
   "source": [
    "question3_df.head()"
   ]
  },
  {
   "cell_type": "code",
   "execution_count": 476,
   "metadata": {},
   "outputs": [],
   "source": [
    "#Extremely offensive, Hate speech, Very offensive\n",
    "#Neutral, Offensive, Profanity, Unknown \n",
    "\n",
    "\n",
    "def toxic_flag(row):\n",
    "  if row['label'] in('Very offensive', 'Profanity','Extremely offensive', 'Hate speech'): \n",
    "    return 1\n",
    "  else:\n",
    "    return 0\n",
    "\n",
    "question3_df['toxic_flag']=question3_df.apply(toxic_flag, axis=1)"
   ]
  },
  {
   "cell_type": "code",
   "execution_count": 477,
   "metadata": {},
   "outputs": [
    {
     "data": {
      "text/html": [
       "<div>\n",
       "<style scoped>\n",
       "    .dataframe tbody tr th:only-of-type {\n",
       "        vertical-align: middle;\n",
       "    }\n",
       "\n",
       "    .dataframe tbody tr th {\n",
       "        vertical-align: top;\n",
       "    }\n",
       "\n",
       "    .dataframe thead tr th {\n",
       "        text-align: left;\n",
       "    }\n",
       "\n",
       "    .dataframe thead tr:last-of-type th {\n",
       "        text-align: right;\n",
       "    }\n",
       "</style>\n",
       "<table border=\"1\" class=\"dataframe\">\n",
       "  <thead>\n",
       "    <tr>\n",
       "      <th></th>\n",
       "      <th>flirtation</th>\n",
       "      <th>identity_attack</th>\n",
       "      <th>insult</th>\n",
       "      <th>severe_toxicity</th>\n",
       "      <th>sexually_explicit</th>\n",
       "      <th>threat</th>\n",
       "      <th>toxic_flag</th>\n",
       "    </tr>\n",
       "    <tr>\n",
       "      <th></th>\n",
       "      <th>sum</th>\n",
       "      <th>sum</th>\n",
       "      <th>sum</th>\n",
       "      <th>sum</th>\n",
       "      <th>sum</th>\n",
       "      <th>sum</th>\n",
       "      <th>sum</th>\n",
       "    </tr>\n",
       "    <tr>\n",
       "      <th>label</th>\n",
       "      <th></th>\n",
       "      <th></th>\n",
       "      <th></th>\n",
       "      <th></th>\n",
       "      <th></th>\n",
       "      <th></th>\n",
       "      <th></th>\n",
       "    </tr>\n",
       "  </thead>\n",
       "  <tbody>\n",
       "    <tr>\n",
       "      <th>Extremely offensive</th>\n",
       "      <td>180.364857</td>\n",
       "      <td>393.906974</td>\n",
       "      <td>387.335691</td>\n",
       "      <td>375.177752</td>\n",
       "      <td>232.836210</td>\n",
       "      <td>192.049122</td>\n",
       "      <td>426</td>\n",
       "    </tr>\n",
       "    <tr>\n",
       "      <th>Hate speech</th>\n",
       "      <td>36.682110</td>\n",
       "      <td>80.831353</td>\n",
       "      <td>78.129105</td>\n",
       "      <td>77.723241</td>\n",
       "      <td>49.936092</td>\n",
       "      <td>46.011031</td>\n",
       "      <td>86</td>\n",
       "    </tr>\n",
       "    <tr>\n",
       "      <th>Neutral</th>\n",
       "      <td>308.974074</td>\n",
       "      <td>297.055393</td>\n",
       "      <td>513.944161</td>\n",
       "      <td>607.201097</td>\n",
       "      <td>266.745337</td>\n",
       "      <td>574.404952</td>\n",
       "      <td>0</td>\n",
       "    </tr>\n",
       "    <tr>\n",
       "      <th>Offensive</th>\n",
       "      <td>2525.994241</td>\n",
       "      <td>2709.206502</td>\n",
       "      <td>5104.892953</td>\n",
       "      <td>5028.814834</td>\n",
       "      <td>3508.575642</td>\n",
       "      <td>2259.559008</td>\n",
       "      <td>0</td>\n",
       "    </tr>\n",
       "    <tr>\n",
       "      <th>Profanity</th>\n",
       "      <td>1431.329736</td>\n",
       "      <td>900.550534</td>\n",
       "      <td>2450.857810</td>\n",
       "      <td>2678.553772</td>\n",
       "      <td>1878.485324</td>\n",
       "      <td>1075.869009</td>\n",
       "      <td>3430</td>\n",
       "    </tr>\n",
       "    <tr>\n",
       "      <th>Unknown</th>\n",
       "      <td>61.788665</td>\n",
       "      <td>64.197408</td>\n",
       "      <td>72.516177</td>\n",
       "      <td>78.163724</td>\n",
       "      <td>60.977095</td>\n",
       "      <td>56.558707</td>\n",
       "      <td>0</td>\n",
       "    </tr>\n",
       "    <tr>\n",
       "      <th>Very offensive</th>\n",
       "      <td>456.617007</td>\n",
       "      <td>812.848039</td>\n",
       "      <td>1011.287835</td>\n",
       "      <td>1016.964380</td>\n",
       "      <td>681.328250</td>\n",
       "      <td>658.691246</td>\n",
       "      <td>1138</td>\n",
       "    </tr>\n",
       "  </tbody>\n",
       "</table>\n",
       "</div>"
      ],
      "text/plain": [
       "                      flirtation identity_attack       insult severe_toxicity  \\\n",
       "                             sum             sum          sum             sum   \n",
       "label                                                                           \n",
       "Extremely offensive   180.364857      393.906974   387.335691      375.177752   \n",
       "Hate speech            36.682110       80.831353    78.129105       77.723241   \n",
       "Neutral               308.974074      297.055393   513.944161      607.201097   \n",
       "Offensive            2525.994241     2709.206502  5104.892953     5028.814834   \n",
       "Profanity            1431.329736      900.550534  2450.857810     2678.553772   \n",
       "Unknown                61.788665       64.197408    72.516177       78.163724   \n",
       "Very offensive        456.617007      812.848039  1011.287835     1016.964380   \n",
       "\n",
       "                    sexually_explicit       threat toxic_flag  \n",
       "                                  sum          sum        sum  \n",
       "label                                                          \n",
       "Extremely offensive        232.836210   192.049122        426  \n",
       "Hate speech                 49.936092    46.011031         86  \n",
       "Neutral                    266.745337   574.404952          0  \n",
       "Offensive                 3508.575642  2259.559008          0  \n",
       "Profanity                 1878.485324  1075.869009       3430  \n",
       "Unknown                     60.977095    56.558707          0  \n",
       "Very offensive             681.328250   658.691246       1138  "
      ]
     },
     "execution_count": 477,
     "metadata": {},
     "output_type": "execute_result"
    }
   ],
   "source": [
    "question3_df.groupby(['label']).agg(['sum'])"
   ]
  },
  {
   "cell_type": "code",
   "execution_count": 478,
   "metadata": {},
   "outputs": [],
   "source": [
    "question3_df.groupby(['toxic_flag']).agg(['count'])\n",
    "\n",
    "from sklearn import preprocessing\n",
    "lb = preprocessing.LabelBinarizer()\n",
    "target=lb.fit(question3_df['toxic_flag'])"
   ]
  },
  {
   "cell_type": "code",
   "execution_count": 479,
   "metadata": {},
   "outputs": [
    {
     "name": "stdout",
     "output_type": "stream",
     "text": [
      "9600\n",
      "2400\n"
     ]
    }
   ],
   "source": [
    "#split training and test set\n",
    "from sklearn.model_selection import train_test_split\n",
    "train_set, test_set = train_test_split(question3_df, test_size=0.2, random_state=42)\n",
    "print(len(train_set))\n",
    "print(len(test_set))"
   ]
  },
  {
   "cell_type": "code",
   "execution_count": 480,
   "metadata": {},
   "outputs": [
    {
     "data": {
      "text/html": [
       "<div>\n",
       "<style scoped>\n",
       "    .dataframe tbody tr th:only-of-type {\n",
       "        vertical-align: middle;\n",
       "    }\n",
       "\n",
       "    .dataframe tbody tr th {\n",
       "        vertical-align: top;\n",
       "    }\n",
       "\n",
       "    .dataframe thead th {\n",
       "        text-align: right;\n",
       "    }\n",
       "</style>\n",
       "<table border=\"1\" class=\"dataframe\">\n",
       "  <thead>\n",
       "    <tr style=\"text-align: right;\">\n",
       "      <th></th>\n",
       "      <th>flirtation</th>\n",
       "      <th>identity_attack</th>\n",
       "      <th>insult</th>\n",
       "      <th>severe_toxicity</th>\n",
       "      <th>sexually_explicit</th>\n",
       "      <th>threat</th>\n",
       "    </tr>\n",
       "  </thead>\n",
       "  <tbody>\n",
       "    <tr>\n",
       "      <th>9182</th>\n",
       "      <td>0.713375</td>\n",
       "      <td>0.184467</td>\n",
       "      <td>0.628916</td>\n",
       "      <td>0.722214</td>\n",
       "      <td>0.955973</td>\n",
       "      <td>0.209654</td>\n",
       "    </tr>\n",
       "    <tr>\n",
       "      <th>11091</th>\n",
       "      <td>0.497507</td>\n",
       "      <td>0.934033</td>\n",
       "      <td>0.919052</td>\n",
       "      <td>0.945149</td>\n",
       "      <td>0.868834</td>\n",
       "      <td>0.288530</td>\n",
       "    </tr>\n",
       "    <tr>\n",
       "      <th>6428</th>\n",
       "      <td>0.253752</td>\n",
       "      <td>0.715580</td>\n",
       "      <td>0.909873</td>\n",
       "      <td>0.737679</td>\n",
       "      <td>0.171833</td>\n",
       "      <td>0.270194</td>\n",
       "    </tr>\n",
       "    <tr>\n",
       "      <th>288</th>\n",
       "      <td>0.522886</td>\n",
       "      <td>0.606927</td>\n",
       "      <td>0.932669</td>\n",
       "      <td>0.886782</td>\n",
       "      <td>0.924914</td>\n",
       "      <td>0.398544</td>\n",
       "    </tr>\n",
       "    <tr>\n",
       "      <th>2626</th>\n",
       "      <td>0.474379</td>\n",
       "      <td>0.125789</td>\n",
       "      <td>0.727237</td>\n",
       "      <td>0.779466</td>\n",
       "      <td>0.902304</td>\n",
       "      <td>0.367039</td>\n",
       "    </tr>\n",
       "  </tbody>\n",
       "</table>\n",
       "</div>"
      ],
      "text/plain": [
       "       flirtation  identity_attack    insult  severe_toxicity  \\\n",
       "9182     0.713375         0.184467  0.628916         0.722214   \n",
       "11091    0.497507         0.934033  0.919052         0.945149   \n",
       "6428     0.253752         0.715580  0.909873         0.737679   \n",
       "288      0.522886         0.606927  0.932669         0.886782   \n",
       "2626     0.474379         0.125789  0.727237         0.779466   \n",
       "\n",
       "       sexually_explicit    threat  \n",
       "9182            0.955973  0.209654  \n",
       "11091           0.868834  0.288530  \n",
       "6428            0.171833  0.270194  \n",
       "288             0.924914  0.398544  \n",
       "2626            0.902304  0.367039  "
      ]
     },
     "execution_count": 480,
     "metadata": {},
     "output_type": "execute_result"
    }
   ],
   "source": [
    "X_train = train_set.drop(['toxic_flag','label'], axis=1)\n",
    "X_train.head()"
   ]
  },
  {
   "cell_type": "code",
   "execution_count": 481,
   "metadata": {},
   "outputs": [],
   "source": [
    "Y_train = train_set['toxic_flag']\n",
    "y_train=lb.transform(Y_train)\n",
    "y_train=y_train.ravel()\n",
    "\n",
    "X_test = test_set.drop(['toxic_flag','label'], axis=1)\n",
    "Y_test = test_set['toxic_flag']\n",
    "y_test=lb.transform(Y_test)\n",
    "y_test=y_test.ravel()"
   ]
  },
  {
   "cell_type": "code",
   "execution_count": 482,
   "metadata": {},
   "outputs": [
    {
     "data": {
      "text/plain": [
       "SGDClassifier(alpha=0.0001, average=False, class_weight=None,\n",
       "       early_stopping=False, epsilon=0.1, eta0=0.0, fit_intercept=True,\n",
       "       l1_ratio=0.15, learning_rate='optimal', loss='hinge', max_iter=5,\n",
       "       n_iter=None, n_iter_no_change=5, n_jobs=None, penalty='l2',\n",
       "       power_t=0.5, random_state=42, shuffle=True, tol=-inf,\n",
       "       validation_fraction=0.1, verbose=0, warm_start=False)"
      ]
     },
     "execution_count": 482,
     "metadata": {},
     "output_type": "execute_result"
    }
   ],
   "source": [
    "from sklearn.linear_model import SGDClassifier\n",
    "\n",
    "sgd_clf = SGDClassifier(max_iter=5, random_state=42, tol=-np.infty)\n",
    "sgd_clf.fit(X_train, y_train)"
   ]
  },
  {
   "cell_type": "code",
   "execution_count": 483,
   "metadata": {},
   "outputs": [
    {
     "data": {
      "text/plain": [
       "array([0.456875, 0.619375, 0.598125])"
      ]
     },
     "execution_count": 483,
     "metadata": {},
     "output_type": "execute_result"
    }
   ],
   "source": [
    "from sklearn.model_selection import cross_val_score\n",
    "cross_val_score(sgd_clf, X_train, y_train, cv=3, scoring=\"accuracy\")"
   ]
  },
  {
   "cell_type": "code",
   "execution_count": 484,
   "metadata": {},
   "outputs": [
    {
     "data": {
      "text/plain": [
       "array([[3514, 2018],\n",
       "       [2224, 1844]], dtype=int64)"
      ]
     },
     "execution_count": 484,
     "metadata": {},
     "output_type": "execute_result"
    }
   ],
   "source": [
    "from sklearn.model_selection import cross_val_predict\n",
    "y_train_pred = cross_val_predict(sgd_clf, X_train, y_train, cv=3)\n",
    "\n",
    "from sklearn.metrics import confusion_matrix\n",
    "confusion_matrix(y_train, y_train_pred)"
   ]
  },
  {
   "cell_type": "code",
   "execution_count": 485,
   "metadata": {},
   "outputs": [
    {
     "data": {
      "text/plain": [
       "0.47747281201450026"
      ]
     },
     "execution_count": 485,
     "metadata": {},
     "output_type": "execute_result"
    }
   ],
   "source": [
    "from sklearn.metrics import precision_score, recall_score\n",
    "precision_score(y_train, y_train_pred)"
   ]
  },
  {
   "cell_type": "code",
   "execution_count": 486,
   "metadata": {},
   "outputs": [
    {
     "data": {
      "text/plain": [
       "0.5929166666666666"
      ]
     },
     "execution_count": 486,
     "metadata": {},
     "output_type": "execute_result"
    }
   ],
   "source": [
    "y_test_pred = sgd_clf.predict(X_test)\n",
    "from sklearn.metrics import accuracy_score\n",
    "accuracy_score(y_test, y_test_pred)"
   ]
  },
  {
   "cell_type": "code",
   "execution_count": 489,
   "metadata": {},
   "outputs": [
    {
     "data": {
      "text/plain": [
       "0.48451855872333494"
      ]
     },
     "execution_count": 489,
     "metadata": {},
     "output_type": "execute_result"
    }
   ],
   "source": [
    "from sklearn.metrics import f1_score\n",
    "f1_score(y_test, y_test_pred, average='weighted')"
   ]
  },
  {
   "cell_type": "code",
   "execution_count": 490,
   "metadata": {},
   "outputs": [
    {
     "data": {
      "text/plain": [
       "0.7209340168102758"
      ]
     },
     "execution_count": 490,
     "metadata": {},
     "output_type": "execute_result"
    }
   ],
   "source": [
    "from sklearn.ensemble import RandomForestClassifier\n",
    "\n",
    "forest_clf = RandomForestClassifier(random_state=42, n_estimators=100)\n",
    "forest_scores = cross_val_score(forest_clf, X_train, y_train, cv=10)\n",
    "forest_scores.mean()"
   ]
  },
  {
   "cell_type": "code",
   "execution_count": 491,
   "metadata": {},
   "outputs": [
    {
     "data": {
      "text/plain": [
       "array([[5516,   16],\n",
       "       [  20, 4048]], dtype=int64)"
      ]
     },
     "execution_count": 491,
     "metadata": {},
     "output_type": "execute_result"
    }
   ],
   "source": [
    "forest_clf.fit(X_train, y_train)\n",
    "y_train_pred = forest_clf.predict(X_train)\n",
    "confusion_matrix(y_train, y_train_pred)"
   ]
  },
  {
   "cell_type": "code",
   "execution_count": 492,
   "metadata": {},
   "outputs": [
    {
     "data": {
      "text/plain": [
       "array([[5516,   16],\n",
       "       [  20, 4048]], dtype=int64)"
      ]
     },
     "execution_count": 492,
     "metadata": {},
     "output_type": "execute_result"
    }
   ],
   "source": [
    "forest_clf.fit(X_train, y_train)\n",
    "y_train_pred = forest_clf.predict(X_train)\n",
    "confusion_matrix(y_train, y_train_pred)"
   ]
  },
  {
   "cell_type": "code",
   "execution_count": 493,
   "metadata": {},
   "outputs": [
    {
     "data": {
      "text/plain": [
       "array([[1141,  247],\n",
       "       [ 389,  623]], dtype=int64)"
      ]
     },
     "execution_count": 493,
     "metadata": {},
     "output_type": "execute_result"
    }
   ],
   "source": [
    "y_test_pred = forest_clf.predict(X_test)\n",
    "confusion_matrix(y_test, y_test_pred)\n"
   ]
  },
  {
   "cell_type": "code",
   "execution_count": 494,
   "metadata": {},
   "outputs": [
    {
     "data": {
      "text/plain": [
       "0.735"
      ]
     },
     "execution_count": 494,
     "metadata": {},
     "output_type": "execute_result"
    }
   ],
   "source": [
    "accuracy_score(y_test, y_test_pred)"
   ]
  },
  {
   "cell_type": "code",
   "execution_count": 495,
   "metadata": {},
   "outputs": [
    {
     "data": {
      "text/plain": [
       "0.7314505662752137"
      ]
     },
     "execution_count": 495,
     "metadata": {},
     "output_type": "execute_result"
    }
   ],
   "source": [
    "f1_score(y_test, y_test_pred, average='weighted')"
   ]
  },
  {
   "cell_type": "code",
   "execution_count": 435,
   "metadata": {},
   "outputs": [
    {
     "name": "stdout",
     "output_type": "stream",
     "text": [
      "Checking whether there is an H2O instance running at http://localhost:54321 ..... not found.\n",
      "Attempting to start a local H2O server...\n",
      "; Java HotSpot(TM) 64-Bit Server VM 18.9 (build 11.0.3+12-LTS, mixed mode)\n",
      "  Starting server from C:\\Users\\tc302599\\AppData\\Local\\Continuum\\anaconda3\\lib\\site-packages\\h2o\\backend\\bin\\h2o.jar\n",
      "  Ice root: C:\\Users\\tc302599\\AppData\\Local\\Temp\\tmpklcksbek\n",
      "  JVM stdout: C:\\Users\\tc302599\\AppData\\Local\\Temp\\tmpklcksbek\\h2o_tc302599_started_from_python.out\n",
      "  JVM stderr: C:\\Users\\tc302599\\AppData\\Local\\Temp\\tmpklcksbek\\h2o_tc302599_started_from_python.err\n",
      "  Server is running at http://127.0.0.1:54321\n",
      "Connecting to H2O server at http://127.0.0.1:54321 ... successful.\n",
      "Warning: Your H2O cluster version is too old (6 months and 26 days)! Please download and install the latest version from http://h2o.ai/download/\n"
     ]
    },
    {
     "data": {
      "text/html": [
       "<div style=\"overflow:auto\"><table style=\"width:50%\"><tr><td>H2O cluster uptime:</td>\n",
       "<td>02 secs</td></tr>\n",
       "<tr><td>H2O cluster timezone:</td>\n",
       "<td>Europe/London</td></tr>\n",
       "<tr><td>H2O data parsing timezone:</td>\n",
       "<td>UTC</td></tr>\n",
       "<tr><td>H2O cluster version:</td>\n",
       "<td>3.26.0.8</td></tr>\n",
       "<tr><td>H2O cluster version age:</td>\n",
       "<td>6 months and 26 days !!!</td></tr>\n",
       "<tr><td>H2O cluster name:</td>\n",
       "<td>H2O_from_python_tc302599_tmsw8k</td></tr>\n",
       "<tr><td>H2O cluster total nodes:</td>\n",
       "<td>1</td></tr>\n",
       "<tr><td>H2O cluster free memory:</td>\n",
       "<td>3.971 Gb</td></tr>\n",
       "<tr><td>H2O cluster total cores:</td>\n",
       "<td>8</td></tr>\n",
       "<tr><td>H2O cluster allowed cores:</td>\n",
       "<td>8</td></tr>\n",
       "<tr><td>H2O cluster status:</td>\n",
       "<td>accepting new members, healthy</td></tr>\n",
       "<tr><td>H2O connection url:</td>\n",
       "<td>http://127.0.0.1:54321</td></tr>\n",
       "<tr><td>H2O connection proxy:</td>\n",
       "<td>{'http': None, 'https': None}</td></tr>\n",
       "<tr><td>H2O internal security:</td>\n",
       "<td>False</td></tr>\n",
       "<tr><td>H2O API Extensions:</td>\n",
       "<td>Amazon S3, Algos, AutoML, Core V3, TargetEncoder, Core V4</td></tr>\n",
       "<tr><td>Python version:</td>\n",
       "<td>3.7.3 final</td></tr></table></div>"
      ],
      "text/plain": [
       "--------------------------  ---------------------------------------------------------\n",
       "H2O cluster uptime:         02 secs\n",
       "H2O cluster timezone:       Europe/London\n",
       "H2O data parsing timezone:  UTC\n",
       "H2O cluster version:        3.26.0.8\n",
       "H2O cluster version age:    6 months and 26 days !!!\n",
       "H2O cluster name:           H2O_from_python_tc302599_tmsw8k\n",
       "H2O cluster total nodes:    1\n",
       "H2O cluster free memory:    3.971 Gb\n",
       "H2O cluster total cores:    8\n",
       "H2O cluster allowed cores:  8\n",
       "H2O cluster status:         accepting new members, healthy\n",
       "H2O connection url:         http://127.0.0.1:54321\n",
       "H2O connection proxy:       {'http': None, 'https': None}\n",
       "H2O internal security:      False\n",
       "H2O API Extensions:         Amazon S3, Algos, AutoML, Core V3, TargetEncoder, Core V4\n",
       "Python version:             3.7.3 final\n",
       "--------------------------  ---------------------------------------------------------"
      ]
     },
     "metadata": {},
     "output_type": "display_data"
    }
   ],
   "source": [
    "import h2o\n",
    "h2o.init()\n",
    "from h2o.automl import H2OAutoML"
   ]
  },
  {
   "cell_type": "code",
   "execution_count": 450,
   "metadata": {},
   "outputs": [
    {
     "name": "stdout",
     "output_type": "stream",
     "text": [
      "Parse progress: |█████████████████████████████████████████████████████████| 100%\n",
      "Parse progress: |█████████████████████████████████████████████████████████| 100%\n"
     ]
    }
   ],
   "source": [
    "train_temp=train_set.drop(['label'], axis=1)\n",
    "train = h2o.H2OFrame(train_temp)\n",
    "test_temp=test_set.drop(['label'], axis=1)\n",
    "test = h2o.H2OFrame(test_temp)\n",
    "\n",
    "x = train.columns\n",
    "y = \"toxic_flag\"\n",
    "x.remove(y)\n",
    "train[y] = train[y].asfactor()\n",
    "test[y] = test[y].asfactor()"
   ]
  },
  {
   "cell_type": "code",
   "execution_count": 451,
   "metadata": {},
   "outputs": [
    {
     "name": "stdout",
     "output_type": "stream",
     "text": [
      "AutoML progress: |████████████████████████████████████████████████████████| 100%\n"
     ]
    }
   ],
   "source": [
    "aml = H2OAutoML(max_models = 30, max_runtime_secs=300, seed = 1)\n",
    "aml.train(x = x_cols, y = y , training_frame = train)"
   ]
  },
  {
   "cell_type": "code",
   "execution_count": 452,
   "metadata": {},
   "outputs": [
    {
     "data": {
      "text/html": [
       "<table>\n",
       "<thead>\n",
       "<tr><th>model_id                                           </th><th style=\"text-align: right;\">     auc</th><th style=\"text-align: right;\">  logloss</th><th style=\"text-align: right;\">  mean_per_class_error</th><th style=\"text-align: right;\">    rmse</th><th style=\"text-align: right;\">     mse</th></tr>\n",
       "</thead>\n",
       "<tbody>\n",
       "<tr><td>StackedEnsemble_BestOfFamily_AutoML_20200514_130448</td><td style=\"text-align: right;\">0.789116</td><td style=\"text-align: right;\"> 0.545484</td><td style=\"text-align: right;\">              0.290218</td><td style=\"text-align: right;\">0.42758 </td><td style=\"text-align: right;\">0.182825</td></tr>\n",
       "<tr><td>StackedEnsemble_AllModels_AutoML_20200514_130448   </td><td style=\"text-align: right;\">0.789032</td><td style=\"text-align: right;\"> 0.545932</td><td style=\"text-align: right;\">              0.292533</td><td style=\"text-align: right;\">0.427803</td><td style=\"text-align: right;\">0.183015</td></tr>\n",
       "<tr><td>GBM_5_AutoML_20200514_130448                       </td><td style=\"text-align: right;\">0.782983</td><td style=\"text-align: right;\"> 0.550671</td><td style=\"text-align: right;\">              0.304753</td><td style=\"text-align: right;\">0.430545</td><td style=\"text-align: right;\">0.185369</td></tr>\n",
       "<tr><td>GBM_1_AutoML_20200514_130448                       </td><td style=\"text-align: right;\">0.782643</td><td style=\"text-align: right;\"> 0.551317</td><td style=\"text-align: right;\">              0.286475</td><td style=\"text-align: right;\">0.430569</td><td style=\"text-align: right;\">0.18539 </td></tr>\n",
       "<tr><td>GBM_2_AutoML_20200514_130448                       </td><td style=\"text-align: right;\">0.782338</td><td style=\"text-align: right;\"> 0.551327</td><td style=\"text-align: right;\">              0.297956</td><td style=\"text-align: right;\">0.430761</td><td style=\"text-align: right;\">0.185555</td></tr>\n",
       "<tr><td>GBM_3_AutoML_20200514_130448                       </td><td style=\"text-align: right;\">0.7815  </td><td style=\"text-align: right;\"> 0.551809</td><td style=\"text-align: right;\">              0.311124</td><td style=\"text-align: right;\">0.431042</td><td style=\"text-align: right;\">0.185798</td></tr>\n",
       "<tr><td>GBM_grid_1_AutoML_20200514_130448_model_7          </td><td style=\"text-align: right;\">0.779944</td><td style=\"text-align: right;\"> 0.553859</td><td style=\"text-align: right;\">              0.301448</td><td style=\"text-align: right;\">0.431844</td><td style=\"text-align: right;\">0.186489</td></tr>\n",
       "<tr><td>DRF_1_AutoML_20200514_130448                       </td><td style=\"text-align: right;\">0.776034</td><td style=\"text-align: right;\"> 0.578139</td><td style=\"text-align: right;\">              0.298024</td><td style=\"text-align: right;\">0.434485</td><td style=\"text-align: right;\">0.188777</td></tr>\n",
       "<tr><td>GBM_4_AutoML_20200514_130448                       </td><td style=\"text-align: right;\">0.77513 </td><td style=\"text-align: right;\"> 0.559875</td><td style=\"text-align: right;\">              0.301148</td><td style=\"text-align: right;\">0.434364</td><td style=\"text-align: right;\">0.188672</td></tr>\n",
       "<tr><td>XRT_1_AutoML_20200514_130448                       </td><td style=\"text-align: right;\">0.773525</td><td style=\"text-align: right;\"> 0.58157 </td><td style=\"text-align: right;\">              0.315332</td><td style=\"text-align: right;\">0.435515</td><td style=\"text-align: right;\">0.189674</td></tr>\n",
       "<tr><td>DeepLearning_grid_1_AutoML_20200514_130448_model_1 </td><td style=\"text-align: right;\">0.771052</td><td style=\"text-align: right;\"> 0.57066 </td><td style=\"text-align: right;\">              0.296605</td><td style=\"text-align: right;\">0.436956</td><td style=\"text-align: right;\">0.19093 </td></tr>\n",
       "<tr><td>GBM_grid_1_AutoML_20200514_130448_model_6          </td><td style=\"text-align: right;\">0.768748</td><td style=\"text-align: right;\"> 0.589768</td><td style=\"text-align: right;\">              0.309307</td><td style=\"text-align: right;\">0.443821</td><td style=\"text-align: right;\">0.196977</td></tr>\n",
       "<tr><td>GBM_grid_1_AutoML_20200514_130448_model_10         </td><td style=\"text-align: right;\">0.766286</td><td style=\"text-align: right;\"> 0.6025  </td><td style=\"text-align: right;\">              0.308446</td><td style=\"text-align: right;\">0.454187</td><td style=\"text-align: right;\">0.206285</td></tr>\n",
       "<tr><td>GBM_grid_1_AutoML_20200514_130448_model_4          </td><td style=\"text-align: right;\">0.766238</td><td style=\"text-align: right;\"> 0.582164</td><td style=\"text-align: right;\">              0.315142</td><td style=\"text-align: right;\">0.442098</td><td style=\"text-align: right;\">0.195451</td></tr>\n",
       "<tr><td>DeepLearning_grid_1_AutoML_20200514_130448_model_2 </td><td style=\"text-align: right;\">0.76579 </td><td style=\"text-align: right;\"> 0.577419</td><td style=\"text-align: right;\">              0.304156</td><td style=\"text-align: right;\">0.440682</td><td style=\"text-align: right;\">0.1942  </td></tr>\n",
       "<tr><td>DeepLearning_1_AutoML_20200514_130448              </td><td style=\"text-align: right;\">0.764413</td><td style=\"text-align: right;\"> 0.572509</td><td style=\"text-align: right;\">              0.309   </td><td style=\"text-align: right;\">0.440258</td><td style=\"text-align: right;\">0.193827</td></tr>\n",
       "<tr><td>GBM_grid_1_AutoML_20200514_130448_model_11         </td><td style=\"text-align: right;\">0.758519</td><td style=\"text-align: right;\"> 0.674705</td><td style=\"text-align: right;\">              0.328496</td><td style=\"text-align: right;\">0.490793</td><td style=\"text-align: right;\">0.240878</td></tr>\n",
       "<tr><td>DeepLearning_grid_1_AutoML_20200514_130448_model_4 </td><td style=\"text-align: right;\">0.75687 </td><td style=\"text-align: right;\"> 0.585456</td><td style=\"text-align: right;\">              0.319348</td><td style=\"text-align: right;\">0.44474 </td><td style=\"text-align: right;\">0.197793</td></tr>\n",
       "<tr><td>GBM_grid_1_AutoML_20200514_130448_model_1          </td><td style=\"text-align: right;\">0.750359</td><td style=\"text-align: right;\"> 0.596753</td><td style=\"text-align: right;\">              0.324947</td><td style=\"text-align: right;\">0.449324</td><td style=\"text-align: right;\">0.201892</td></tr>\n",
       "<tr><td>GBM_grid_1_AutoML_20200514_130448_model_5          </td><td style=\"text-align: right;\">0.748794</td><td style=\"text-align: right;\"> 0.676572</td><td style=\"text-align: right;\">              0.32246 </td><td style=\"text-align: right;\">0.491722</td><td style=\"text-align: right;\">0.241791</td></tr>\n",
       "<tr><td>GBM_grid_1_AutoML_20200514_130448_model_3          </td><td style=\"text-align: right;\">0.747328</td><td style=\"text-align: right;\"> 0.5846  </td><td style=\"text-align: right;\">              0.331625</td><td style=\"text-align: right;\">0.446511</td><td style=\"text-align: right;\">0.199372</td></tr>\n",
       "<tr><td>DeepLearning_grid_1_AutoML_20200514_130448_model_5 </td><td style=\"text-align: right;\">0.746342</td><td style=\"text-align: right;\"> 0.588281</td><td style=\"text-align: right;\">              0.332791</td><td style=\"text-align: right;\">0.448374</td><td style=\"text-align: right;\">0.201039</td></tr>\n",
       "<tr><td>GBM_grid_1_AutoML_20200514_130448_model_9          </td><td style=\"text-align: right;\">0.745208</td><td style=\"text-align: right;\"> 0.645041</td><td style=\"text-align: right;\">              0.336029</td><td style=\"text-align: right;\">0.45904 </td><td style=\"text-align: right;\">0.210718</td></tr>\n",
       "<tr><td>DeepLearning_grid_1_AutoML_20200514_130448_model_3 </td><td style=\"text-align: right;\">0.702398</td><td style=\"text-align: right;\"> 0.616849</td><td style=\"text-align: right;\">              0.396003</td><td style=\"text-align: right;\">0.462168</td><td style=\"text-align: right;\">0.213599</td></tr>\n",
       "<tr><td>GBM_grid_1_AutoML_20200514_130448_model_2          </td><td style=\"text-align: right;\">0.69837 </td><td style=\"text-align: right;\"> 0.67852 </td><td style=\"text-align: right;\">              0.411318</td><td style=\"text-align: right;\">0.492689</td><td style=\"text-align: right;\">0.242742</td></tr>\n",
       "<tr><td>DeepLearning_grid_1_AutoML_20200514_130448_model_6 </td><td style=\"text-align: right;\">0.696721</td><td style=\"text-align: right;\"> 0.621316</td><td style=\"text-align: right;\">              0.386454</td><td style=\"text-align: right;\">0.464559</td><td style=\"text-align: right;\">0.215815</td></tr>\n",
       "<tr><td>GBM_grid_1_AutoML_20200514_130448_model_8          </td><td style=\"text-align: right;\">0.682293</td><td style=\"text-align: right;\"> 2.52067 </td><td style=\"text-align: right;\">              0.381904</td><td style=\"text-align: right;\">0.548726</td><td style=\"text-align: right;\">0.3011  </td></tr>\n",
       "<tr><td>GLM_grid_1_AutoML_20200514_130448_model_1          </td><td style=\"text-align: right;\">0.638393</td><td style=\"text-align: right;\"> 0.654434</td><td style=\"text-align: right;\">              0.469036</td><td style=\"text-align: right;\">0.480622</td><td style=\"text-align: right;\">0.230997</td></tr>\n",
       "</tbody>\n",
       "</table>"
      ]
     },
     "metadata": {},
     "output_type": "display_data"
    },
    {
     "data": {
      "text/plain": []
     },
     "execution_count": 452,
     "metadata": {},
     "output_type": "execute_result"
    }
   ],
   "source": [
    "lb = aml.leaderboard\n",
    "lb.head()\n",
    "lb.head(rows=lb.nrows) # Entire leaderboard"
   ]
  },
  {
   "cell_type": "code",
   "execution_count": 453,
   "metadata": {},
   "outputs": [
    {
     "name": "stdout",
     "output_type": "stream",
     "text": [
      "\n",
      "ModelMetricsBinomialGLM: stackedensemble\n",
      "** Reported on test data. **\n",
      "\n",
      "MSE: 0.1781269315093314\n",
      "RMSE: 0.4220508636519198\n",
      "LogLoss: 0.5354968204215205\n",
      "Null degrees of freedom: 2399\n",
      "Residual degrees of freedom: 2395\n",
      "Null deviance: 3267.9991081093194\n",
      "Residual deviance: 2570.3847380232983\n",
      "AIC: 2580.3847380232983\n",
      "AUC: 0.7966256506931234\n",
      "pr_auc: 0.754532418293023\n",
      "Gini: 0.5932513013862468\n",
      "\n",
      "Confusion Matrix (Act/Pred) for max f1 @ threshold = 0.3189035939733982: \n"
     ]
    },
    {
     "data": {
      "text/html": [
       "<div>\n",
       "<style scoped>\n",
       "    .dataframe tbody tr th:only-of-type {\n",
       "        vertical-align: middle;\n",
       "    }\n",
       "\n",
       "    .dataframe tbody tr th {\n",
       "        vertical-align: top;\n",
       "    }\n",
       "\n",
       "    .dataframe thead th {\n",
       "        text-align: right;\n",
       "    }\n",
       "</style>\n",
       "<table border=\"1\" class=\"dataframe\">\n",
       "  <thead>\n",
       "    <tr style=\"text-align: right;\">\n",
       "      <th></th>\n",
       "      <th></th>\n",
       "      <th>0</th>\n",
       "      <th>1</th>\n",
       "      <th>Error</th>\n",
       "      <th>Rate</th>\n",
       "    </tr>\n",
       "  </thead>\n",
       "  <tbody>\n",
       "    <tr>\n",
       "      <th>0</th>\n",
       "      <td>0</td>\n",
       "      <td>915.0</td>\n",
       "      <td>473.0</td>\n",
       "      <td>0.3408</td>\n",
       "      <td>(473.0/1388.0)</td>\n",
       "    </tr>\n",
       "    <tr>\n",
       "      <th>1</th>\n",
       "      <td>1</td>\n",
       "      <td>218.0</td>\n",
       "      <td>794.0</td>\n",
       "      <td>0.2154</td>\n",
       "      <td>(218.0/1012.0)</td>\n",
       "    </tr>\n",
       "    <tr>\n",
       "      <th>2</th>\n",
       "      <td>Total</td>\n",
       "      <td>1133.0</td>\n",
       "      <td>1267.0</td>\n",
       "      <td>0.2879</td>\n",
       "      <td>(691.0/2400.0)</td>\n",
       "    </tr>\n",
       "  </tbody>\n",
       "</table>\n",
       "</div>"
      ],
      "text/plain": [
       "               0       1   Error             Rate\n",
       "0      0   915.0   473.0  0.3408   (473.0/1388.0)\n",
       "1      1   218.0   794.0  0.2154   (218.0/1012.0)\n",
       "2  Total  1133.0  1267.0  0.2879   (691.0/2400.0)"
      ]
     },
     "metadata": {},
     "output_type": "display_data"
    },
    {
     "name": "stdout",
     "output_type": "stream",
     "text": [
      "\n",
      "Maximum Metrics: Maximum metrics at their respective thresholds\n"
     ]
    },
    {
     "data": {
      "text/html": [
       "<div>\n",
       "<style scoped>\n",
       "    .dataframe tbody tr th:only-of-type {\n",
       "        vertical-align: middle;\n",
       "    }\n",
       "\n",
       "    .dataframe tbody tr th {\n",
       "        vertical-align: top;\n",
       "    }\n",
       "\n",
       "    .dataframe thead th {\n",
       "        text-align: right;\n",
       "    }\n",
       "</style>\n",
       "<table border=\"1\" class=\"dataframe\">\n",
       "  <thead>\n",
       "    <tr style=\"text-align: right;\">\n",
       "      <th></th>\n",
       "      <th>metric</th>\n",
       "      <th>threshold</th>\n",
       "      <th>value</th>\n",
       "      <th>idx</th>\n",
       "    </tr>\n",
       "  </thead>\n",
       "  <tbody>\n",
       "    <tr>\n",
       "      <th>0</th>\n",
       "      <td>max f1</td>\n",
       "      <td>0.318904</td>\n",
       "      <td>0.696797</td>\n",
       "      <td>255.0</td>\n",
       "    </tr>\n",
       "    <tr>\n",
       "      <th>1</th>\n",
       "      <td>max f2</td>\n",
       "      <td>0.163380</td>\n",
       "      <td>0.798095</td>\n",
       "      <td>346.0</td>\n",
       "    </tr>\n",
       "    <tr>\n",
       "      <th>2</th>\n",
       "      <td>max f0point5</td>\n",
       "      <td>0.560957</td>\n",
       "      <td>0.714468</td>\n",
       "      <td>147.0</td>\n",
       "    </tr>\n",
       "    <tr>\n",
       "      <th>3</th>\n",
       "      <td>max accuracy</td>\n",
       "      <td>0.560957</td>\n",
       "      <td>0.742083</td>\n",
       "      <td>147.0</td>\n",
       "    </tr>\n",
       "    <tr>\n",
       "      <th>4</th>\n",
       "      <td>max precision</td>\n",
       "      <td>0.914323</td>\n",
       "      <td>1.000000</td>\n",
       "      <td>0.0</td>\n",
       "    </tr>\n",
       "    <tr>\n",
       "      <th>5</th>\n",
       "      <td>max recall</td>\n",
       "      <td>0.084730</td>\n",
       "      <td>1.000000</td>\n",
       "      <td>399.0</td>\n",
       "    </tr>\n",
       "    <tr>\n",
       "      <th>6</th>\n",
       "      <td>max specificity</td>\n",
       "      <td>0.914323</td>\n",
       "      <td>1.000000</td>\n",
       "      <td>0.0</td>\n",
       "    </tr>\n",
       "    <tr>\n",
       "      <th>7</th>\n",
       "      <td>max absolute_mcc</td>\n",
       "      <td>0.560957</td>\n",
       "      <td>0.465448</td>\n",
       "      <td>147.0</td>\n",
       "    </tr>\n",
       "    <tr>\n",
       "      <th>8</th>\n",
       "      <td>max min_per_class_accuracy</td>\n",
       "      <td>0.379226</td>\n",
       "      <td>0.719741</td>\n",
       "      <td>230.0</td>\n",
       "    </tr>\n",
       "    <tr>\n",
       "      <th>9</th>\n",
       "      <td>max mean_per_class_accuracy</td>\n",
       "      <td>0.483186</td>\n",
       "      <td>0.725623</td>\n",
       "      <td>180.0</td>\n",
       "    </tr>\n",
       "    <tr>\n",
       "      <th>10</th>\n",
       "      <td>max tns</td>\n",
       "      <td>0.914323</td>\n",
       "      <td>1388.000000</td>\n",
       "      <td>0.0</td>\n",
       "    </tr>\n",
       "    <tr>\n",
       "      <th>11</th>\n",
       "      <td>max fns</td>\n",
       "      <td>0.914323</td>\n",
       "      <td>1010.000000</td>\n",
       "      <td>0.0</td>\n",
       "    </tr>\n",
       "    <tr>\n",
       "      <th>12</th>\n",
       "      <td>max fps</td>\n",
       "      <td>0.084730</td>\n",
       "      <td>1388.000000</td>\n",
       "      <td>399.0</td>\n",
       "    </tr>\n",
       "    <tr>\n",
       "      <th>13</th>\n",
       "      <td>max tps</td>\n",
       "      <td>0.084730</td>\n",
       "      <td>1012.000000</td>\n",
       "      <td>399.0</td>\n",
       "    </tr>\n",
       "    <tr>\n",
       "      <th>14</th>\n",
       "      <td>max tnr</td>\n",
       "      <td>0.914323</td>\n",
       "      <td>1.000000</td>\n",
       "      <td>0.0</td>\n",
       "    </tr>\n",
       "    <tr>\n",
       "      <th>15</th>\n",
       "      <td>max fnr</td>\n",
       "      <td>0.914323</td>\n",
       "      <td>0.998024</td>\n",
       "      <td>0.0</td>\n",
       "    </tr>\n",
       "    <tr>\n",
       "      <th>16</th>\n",
       "      <td>max fpr</td>\n",
       "      <td>0.084730</td>\n",
       "      <td>1.000000</td>\n",
       "      <td>399.0</td>\n",
       "    </tr>\n",
       "    <tr>\n",
       "      <th>17</th>\n",
       "      <td>max tpr</td>\n",
       "      <td>0.084730</td>\n",
       "      <td>1.000000</td>\n",
       "      <td>399.0</td>\n",
       "    </tr>\n",
       "  </tbody>\n",
       "</table>\n",
       "</div>"
      ],
      "text/plain": [
       "                         metric  threshold        value    idx\n",
       "0                        max f1   0.318904     0.696797  255.0\n",
       "1                        max f2   0.163380     0.798095  346.0\n",
       "2                  max f0point5   0.560957     0.714468  147.0\n",
       "3                  max accuracy   0.560957     0.742083  147.0\n",
       "4                 max precision   0.914323     1.000000    0.0\n",
       "5                    max recall   0.084730     1.000000  399.0\n",
       "6               max specificity   0.914323     1.000000    0.0\n",
       "7              max absolute_mcc   0.560957     0.465448  147.0\n",
       "8    max min_per_class_accuracy   0.379226     0.719741  230.0\n",
       "9   max mean_per_class_accuracy   0.483186     0.725623  180.0\n",
       "10                      max tns   0.914323  1388.000000    0.0\n",
       "11                      max fns   0.914323  1010.000000    0.0\n",
       "12                      max fps   0.084730  1388.000000  399.0\n",
       "13                      max tps   0.084730  1012.000000  399.0\n",
       "14                      max tnr   0.914323     1.000000    0.0\n",
       "15                      max fnr   0.914323     0.998024    0.0\n",
       "16                      max fpr   0.084730     1.000000  399.0\n",
       "17                      max tpr   0.084730     1.000000  399.0"
      ]
     },
     "metadata": {},
     "output_type": "display_data"
    },
    {
     "name": "stdout",
     "output_type": "stream",
     "text": [
      "\n",
      "Gains/Lift Table: Avg response rate: 42.17 %, avg score: 40.92 %\n"
     ]
    },
    {
     "data": {
      "text/html": [
       "<div>\n",
       "<style scoped>\n",
       "    .dataframe tbody tr th:only-of-type {\n",
       "        vertical-align: middle;\n",
       "    }\n",
       "\n",
       "    .dataframe tbody tr th {\n",
       "        vertical-align: top;\n",
       "    }\n",
       "\n",
       "    .dataframe thead th {\n",
       "        text-align: right;\n",
       "    }\n",
       "</style>\n",
       "<table border=\"1\" class=\"dataframe\">\n",
       "  <thead>\n",
       "    <tr style=\"text-align: right;\">\n",
       "      <th></th>\n",
       "      <th></th>\n",
       "      <th>group</th>\n",
       "      <th>cumulative_data_fraction</th>\n",
       "      <th>lower_threshold</th>\n",
       "      <th>lift</th>\n",
       "      <th>cumulative_lift</th>\n",
       "      <th>response_rate</th>\n",
       "      <th>score</th>\n",
       "      <th>cumulative_response_rate</th>\n",
       "      <th>cumulative_score</th>\n",
       "      <th>capture_rate</th>\n",
       "      <th>cumulative_capture_rate</th>\n",
       "      <th>gain</th>\n",
       "      <th>cumulative_gain</th>\n",
       "    </tr>\n",
       "  </thead>\n",
       "  <tbody>\n",
       "    <tr>\n",
       "      <th>0</th>\n",
       "      <td></td>\n",
       "      <td>1</td>\n",
       "      <td>0.01</td>\n",
       "      <td>0.885749</td>\n",
       "      <td>2.371542</td>\n",
       "      <td>2.371542</td>\n",
       "      <td>1.000000</td>\n",
       "      <td>0.895349</td>\n",
       "      <td>1.000000</td>\n",
       "      <td>0.895349</td>\n",
       "      <td>0.023715</td>\n",
       "      <td>0.023715</td>\n",
       "      <td>137.154150</td>\n",
       "      <td>137.154150</td>\n",
       "    </tr>\n",
       "    <tr>\n",
       "      <th>1</th>\n",
       "      <td></td>\n",
       "      <td>2</td>\n",
       "      <td>0.02</td>\n",
       "      <td>0.872486</td>\n",
       "      <td>2.272727</td>\n",
       "      <td>2.322134</td>\n",
       "      <td>0.958333</td>\n",
       "      <td>0.878942</td>\n",
       "      <td>0.979167</td>\n",
       "      <td>0.887146</td>\n",
       "      <td>0.022727</td>\n",
       "      <td>0.046443</td>\n",
       "      <td>127.272727</td>\n",
       "      <td>132.213439</td>\n",
       "    </tr>\n",
       "    <tr>\n",
       "      <th>2</th>\n",
       "      <td></td>\n",
       "      <td>3</td>\n",
       "      <td>0.03</td>\n",
       "      <td>0.863599</td>\n",
       "      <td>1.877470</td>\n",
       "      <td>2.173913</td>\n",
       "      <td>0.791667</td>\n",
       "      <td>0.867874</td>\n",
       "      <td>0.916667</td>\n",
       "      <td>0.880722</td>\n",
       "      <td>0.018775</td>\n",
       "      <td>0.065217</td>\n",
       "      <td>87.747036</td>\n",
       "      <td>117.391304</td>\n",
       "    </tr>\n",
       "    <tr>\n",
       "      <th>3</th>\n",
       "      <td></td>\n",
       "      <td>4</td>\n",
       "      <td>0.04</td>\n",
       "      <td>0.851598</td>\n",
       "      <td>2.173913</td>\n",
       "      <td>2.173913</td>\n",
       "      <td>0.916667</td>\n",
       "      <td>0.857344</td>\n",
       "      <td>0.916667</td>\n",
       "      <td>0.874878</td>\n",
       "      <td>0.021739</td>\n",
       "      <td>0.086957</td>\n",
       "      <td>117.391304</td>\n",
       "      <td>117.391304</td>\n",
       "    </tr>\n",
       "    <tr>\n",
       "      <th>4</th>\n",
       "      <td></td>\n",
       "      <td>5</td>\n",
       "      <td>0.05</td>\n",
       "      <td>0.843218</td>\n",
       "      <td>2.075099</td>\n",
       "      <td>2.154150</td>\n",
       "      <td>0.875000</td>\n",
       "      <td>0.847533</td>\n",
       "      <td>0.908333</td>\n",
       "      <td>0.869409</td>\n",
       "      <td>0.020751</td>\n",
       "      <td>0.107708</td>\n",
       "      <td>107.509881</td>\n",
       "      <td>115.415020</td>\n",
       "    </tr>\n",
       "    <tr>\n",
       "      <th>5</th>\n",
       "      <td></td>\n",
       "      <td>6</td>\n",
       "      <td>0.10</td>\n",
       "      <td>0.799032</td>\n",
       "      <td>2.114625</td>\n",
       "      <td>2.134387</td>\n",
       "      <td>0.891667</td>\n",
       "      <td>0.820267</td>\n",
       "      <td>0.900000</td>\n",
       "      <td>0.844838</td>\n",
       "      <td>0.105731</td>\n",
       "      <td>0.213439</td>\n",
       "      <td>111.462451</td>\n",
       "      <td>113.438735</td>\n",
       "    </tr>\n",
       "    <tr>\n",
       "      <th>6</th>\n",
       "      <td></td>\n",
       "      <td>7</td>\n",
       "      <td>0.15</td>\n",
       "      <td>0.745105</td>\n",
       "      <td>1.936759</td>\n",
       "      <td>2.068511</td>\n",
       "      <td>0.816667</td>\n",
       "      <td>0.773354</td>\n",
       "      <td>0.872222</td>\n",
       "      <td>0.821010</td>\n",
       "      <td>0.096838</td>\n",
       "      <td>0.310277</td>\n",
       "      <td>93.675889</td>\n",
       "      <td>106.851120</td>\n",
       "    </tr>\n",
       "    <tr>\n",
       "      <th>7</th>\n",
       "      <td></td>\n",
       "      <td>8</td>\n",
       "      <td>0.20</td>\n",
       "      <td>0.682337</td>\n",
       "      <td>1.719368</td>\n",
       "      <td>1.981225</td>\n",
       "      <td>0.725000</td>\n",
       "      <td>0.716272</td>\n",
       "      <td>0.835417</td>\n",
       "      <td>0.794825</td>\n",
       "      <td>0.085968</td>\n",
       "      <td>0.396245</td>\n",
       "      <td>71.936759</td>\n",
       "      <td>98.122530</td>\n",
       "    </tr>\n",
       "    <tr>\n",
       "      <th>8</th>\n",
       "      <td></td>\n",
       "      <td>9</td>\n",
       "      <td>0.30</td>\n",
       "      <td>0.563281</td>\n",
       "      <td>1.521739</td>\n",
       "      <td>1.828063</td>\n",
       "      <td>0.641667</td>\n",
       "      <td>0.618367</td>\n",
       "      <td>0.770833</td>\n",
       "      <td>0.736006</td>\n",
       "      <td>0.152174</td>\n",
       "      <td>0.548419</td>\n",
       "      <td>52.173913</td>\n",
       "      <td>82.806324</td>\n",
       "    </tr>\n",
       "    <tr>\n",
       "      <th>9</th>\n",
       "      <td></td>\n",
       "      <td>10</td>\n",
       "      <td>0.40</td>\n",
       "      <td>0.440637</td>\n",
       "      <td>1.067194</td>\n",
       "      <td>1.637846</td>\n",
       "      <td>0.450000</td>\n",
       "      <td>0.498680</td>\n",
       "      <td>0.690625</td>\n",
       "      <td>0.676675</td>\n",
       "      <td>0.106719</td>\n",
       "      <td>0.655138</td>\n",
       "      <td>6.719368</td>\n",
       "      <td>63.784585</td>\n",
       "    </tr>\n",
       "    <tr>\n",
       "      <th>10</th>\n",
       "      <td></td>\n",
       "      <td>11</td>\n",
       "      <td>0.50</td>\n",
       "      <td>0.344871</td>\n",
       "      <td>1.027668</td>\n",
       "      <td>1.515810</td>\n",
       "      <td>0.433333</td>\n",
       "      <td>0.393200</td>\n",
       "      <td>0.639167</td>\n",
       "      <td>0.619980</td>\n",
       "      <td>0.102767</td>\n",
       "      <td>0.757905</td>\n",
       "      <td>2.766798</td>\n",
       "      <td>51.581028</td>\n",
       "    </tr>\n",
       "    <tr>\n",
       "      <th>11</th>\n",
       "      <td></td>\n",
       "      <td>12</td>\n",
       "      <td>0.60</td>\n",
       "      <td>0.269003</td>\n",
       "      <td>0.711462</td>\n",
       "      <td>1.381752</td>\n",
       "      <td>0.300000</td>\n",
       "      <td>0.303649</td>\n",
       "      <td>0.582639</td>\n",
       "      <td>0.567258</td>\n",
       "      <td>0.071146</td>\n",
       "      <td>0.829051</td>\n",
       "      <td>-28.853755</td>\n",
       "      <td>38.175231</td>\n",
       "    </tr>\n",
       "    <tr>\n",
       "      <th>12</th>\n",
       "      <td></td>\n",
       "      <td>13</td>\n",
       "      <td>0.70</td>\n",
       "      <td>0.218012</td>\n",
       "      <td>0.652174</td>\n",
       "      <td>1.277527</td>\n",
       "      <td>0.275000</td>\n",
       "      <td>0.242923</td>\n",
       "      <td>0.538690</td>\n",
       "      <td>0.520924</td>\n",
       "      <td>0.065217</td>\n",
       "      <td>0.894269</td>\n",
       "      <td>-34.782609</td>\n",
       "      <td>27.752682</td>\n",
       "    </tr>\n",
       "    <tr>\n",
       "      <th>13</th>\n",
       "      <td></td>\n",
       "      <td>14</td>\n",
       "      <td>0.80</td>\n",
       "      <td>0.165062</td>\n",
       "      <td>0.454545</td>\n",
       "      <td>1.174654</td>\n",
       "      <td>0.191667</td>\n",
       "      <td>0.190044</td>\n",
       "      <td>0.495312</td>\n",
       "      <td>0.479564</td>\n",
       "      <td>0.045455</td>\n",
       "      <td>0.939723</td>\n",
       "      <td>-54.545455</td>\n",
       "      <td>17.465415</td>\n",
       "    </tr>\n",
       "    <tr>\n",
       "      <th>14</th>\n",
       "      <td></td>\n",
       "      <td>15</td>\n",
       "      <td>0.90</td>\n",
       "      <td>0.126638</td>\n",
       "      <td>0.306324</td>\n",
       "      <td>1.078173</td>\n",
       "      <td>0.129167</td>\n",
       "      <td>0.146305</td>\n",
       "      <td>0.454630</td>\n",
       "      <td>0.442536</td>\n",
       "      <td>0.030632</td>\n",
       "      <td>0.970356</td>\n",
       "      <td>-69.367589</td>\n",
       "      <td>7.817303</td>\n",
       "    </tr>\n",
       "    <tr>\n",
       "      <th>15</th>\n",
       "      <td></td>\n",
       "      <td>16</td>\n",
       "      <td>1.00</td>\n",
       "      <td>0.083421</td>\n",
       "      <td>0.296443</td>\n",
       "      <td>1.000000</td>\n",
       "      <td>0.125000</td>\n",
       "      <td>0.108854</td>\n",
       "      <td>0.421667</td>\n",
       "      <td>0.409167</td>\n",
       "      <td>0.029644</td>\n",
       "      <td>1.000000</td>\n",
       "      <td>-70.355731</td>\n",
       "      <td>0.000000</td>\n",
       "    </tr>\n",
       "  </tbody>\n",
       "</table>\n",
       "</div>"
      ],
      "text/plain": [
       "      group  cumulative_data_fraction  lower_threshold      lift  \\\n",
       "0         1                      0.01         0.885749  2.371542   \n",
       "1         2                      0.02         0.872486  2.272727   \n",
       "2         3                      0.03         0.863599  1.877470   \n",
       "3         4                      0.04         0.851598  2.173913   \n",
       "4         5                      0.05         0.843218  2.075099   \n",
       "5         6                      0.10         0.799032  2.114625   \n",
       "6         7                      0.15         0.745105  1.936759   \n",
       "7         8                      0.20         0.682337  1.719368   \n",
       "8         9                      0.30         0.563281  1.521739   \n",
       "9        10                      0.40         0.440637  1.067194   \n",
       "10       11                      0.50         0.344871  1.027668   \n",
       "11       12                      0.60         0.269003  0.711462   \n",
       "12       13                      0.70         0.218012  0.652174   \n",
       "13       14                      0.80         0.165062  0.454545   \n",
       "14       15                      0.90         0.126638  0.306324   \n",
       "15       16                      1.00         0.083421  0.296443   \n",
       "\n",
       "    cumulative_lift  response_rate     score  cumulative_response_rate  \\\n",
       "0          2.371542       1.000000  0.895349                  1.000000   \n",
       "1          2.322134       0.958333  0.878942                  0.979167   \n",
       "2          2.173913       0.791667  0.867874                  0.916667   \n",
       "3          2.173913       0.916667  0.857344                  0.916667   \n",
       "4          2.154150       0.875000  0.847533                  0.908333   \n",
       "5          2.134387       0.891667  0.820267                  0.900000   \n",
       "6          2.068511       0.816667  0.773354                  0.872222   \n",
       "7          1.981225       0.725000  0.716272                  0.835417   \n",
       "8          1.828063       0.641667  0.618367                  0.770833   \n",
       "9          1.637846       0.450000  0.498680                  0.690625   \n",
       "10         1.515810       0.433333  0.393200                  0.639167   \n",
       "11         1.381752       0.300000  0.303649                  0.582639   \n",
       "12         1.277527       0.275000  0.242923                  0.538690   \n",
       "13         1.174654       0.191667  0.190044                  0.495312   \n",
       "14         1.078173       0.129167  0.146305                  0.454630   \n",
       "15         1.000000       0.125000  0.108854                  0.421667   \n",
       "\n",
       "    cumulative_score  capture_rate  cumulative_capture_rate        gain  \\\n",
       "0           0.895349      0.023715                 0.023715  137.154150   \n",
       "1           0.887146      0.022727                 0.046443  127.272727   \n",
       "2           0.880722      0.018775                 0.065217   87.747036   \n",
       "3           0.874878      0.021739                 0.086957  117.391304   \n",
       "4           0.869409      0.020751                 0.107708  107.509881   \n",
       "5           0.844838      0.105731                 0.213439  111.462451   \n",
       "6           0.821010      0.096838                 0.310277   93.675889   \n",
       "7           0.794825      0.085968                 0.396245   71.936759   \n",
       "8           0.736006      0.152174                 0.548419   52.173913   \n",
       "9           0.676675      0.106719                 0.655138    6.719368   \n",
       "10          0.619980      0.102767                 0.757905    2.766798   \n",
       "11          0.567258      0.071146                 0.829051  -28.853755   \n",
       "12          0.520924      0.065217                 0.894269  -34.782609   \n",
       "13          0.479564      0.045455                 0.939723  -54.545455   \n",
       "14          0.442536      0.030632                 0.970356  -69.367589   \n",
       "15          0.409167      0.029644                 1.000000  -70.355731   \n",
       "\n",
       "    cumulative_gain  \n",
       "0        137.154150  \n",
       "1        132.213439  \n",
       "2        117.391304  \n",
       "3        117.391304  \n",
       "4        115.415020  \n",
       "5        113.438735  \n",
       "6        106.851120  \n",
       "7         98.122530  \n",
       "8         82.806324  \n",
       "9         63.784585  \n",
       "10        51.581028  \n",
       "11        38.175231  \n",
       "12        27.752682  \n",
       "13        17.465415  \n",
       "14         7.817303  \n",
       "15         0.000000  "
      ]
     },
     "metadata": {},
     "output_type": "display_data"
    },
    {
     "name": "stdout",
     "output_type": "stream",
     "text": [
      "\n"
     ]
    },
    {
     "data": {
      "text/plain": []
     },
     "execution_count": 453,
     "metadata": {},
     "output_type": "execute_result"
    }
   ],
   "source": [
    "perf = aml.leader.model_performance(test)\n",
    "perf"
   ]
  },
  {
   "cell_type": "code",
   "execution_count": 457,
   "metadata": {},
   "outputs": [
    {
     "name": "stdout",
     "output_type": "stream",
     "text": [
      "H2O session _sid_8c7f closed.\n"
     ]
    }
   ],
   "source": [
    "h2o.cluster().shutdown()"
   ]
  },
  {
   "cell_type": "code",
   "execution_count": null,
   "metadata": {},
   "outputs": [],
   "source": []
  }
 ],
 "metadata": {
  "kernelspec": {
   "display_name": "Python 3",
   "language": "python",
   "name": "python3"
  },
  "language_info": {
   "codemirror_mode": {
    "name": "ipython",
    "version": 3
   },
   "file_extension": ".py",
   "mimetype": "text/x-python",
   "name": "python",
   "nbconvert_exporter": "python",
   "pygments_lexer": "ipython3",
   "version": "3.7.3"
  }
 },
 "nbformat": 4,
 "nbformat_minor": 2
}
